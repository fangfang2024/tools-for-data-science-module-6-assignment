{
 "cells": [
  {
   "cell_type": "markdown",
   "id": "d253c44e-41ea-4b35-8ace-f0114c079494",
   "metadata": {},
   "source": [
    "# Data Science Tools and Ecosystem"
   ]
  },
  {
   "cell_type": "markdown",
   "id": "d44e3353-5a91-4be1-a4fe-6478945874e8",
   "metadata": {},
   "source": [
    "In this notebook, Data Science Tools and Ecosystem are summarized."
   ]
  },
  {
   "cell_type": "markdown",
   "id": "43eed661-174b-42ec-9408-39d543d1940b",
   "metadata": {},
   "source": [
    "**Objectives:**\n",
    "- List popular languages for Data Science\n",
    "- List popular data science tools\n",
    "- List popular libraries used by Data Scientists\n",
    "- List examples of arithmetic expressions in Python"
   ]
  },
  {
   "cell_type": "markdown",
   "id": "82458abe-ce85-4d58-af2f-d5b2e2a81d2f",
   "metadata": {},
   "source": [
    "Some of the popular languages that Data Scientists use are:\n",
    "1. Python\n",
    "2. R\n",
    "3. Java\n"
   ]
  },
  {
   "cell_type": "markdown",
   "id": "91570c7d-226f-4e3c-a3e5-4a9d107572e3",
   "metadata": {},
   "source": [
    "Some of the commonly used libraries used by Data Scientists include:\n",
    "1. NumPy\n",
    "2. Pandas\n",
    "3. Matplotlib\n",
    "4. TensorFlow\n",
    "5. Scikit-learn"
   ]
  },
  {
   "cell_type": "markdown",
   "id": "d4bb7a4f-32af-4b13-bc19-4f51ec9b8c50",
   "metadata": {},
   "source": [
    "|Data Science Tools|\n",
    "|------------------|\n",
    "|Jupyter Notebook|\n",
    "|Pycharm \n",
    "|VS code|\n"
   ]
  },
  {
   "cell_type": "markdown",
   "id": "a63726a1-bdb6-44c3-9476-75936cb003d4",
   "metadata": {},
   "source": [
    "### Below are a few examples of evaluating arithmetic expressions in Python\n",
    "1. Basic arithmetic operations: +, -, *, /\n",
    "2. Modulus: %\n",
    "3. Exponentiation: **\n",
    "4. Floor division: //"
   ]
  },
  {
   "cell_type": "code",
   "execution_count": 21,
   "id": "1325fe88-351c-496f-90fc-1518ef140d00",
   "metadata": {},
   "outputs": [
    {
     "data": {
      "text/plain": [
       "17"
      ]
     },
     "execution_count": 21,
     "metadata": {},
     "output_type": "execute_result"
    }
   ],
   "source": [
    "(3*4)+5\n",
    "#This a simple arithmetic expression to mutipy then add integers"
   ]
  },
  {
   "cell_type": "code",
   "execution_count": 27,
   "id": "03e6a9a9-1f36-4855-a292-0c971a2a3750",
   "metadata": {},
   "outputs": [
    {
     "name": "stdout",
     "output_type": "stream",
     "text": [
      "3.3333333333333335\n"
     ]
    }
   ],
   "source": [
    "def convert_minutes_to_hours(minutes):\n",
    "    hours = minutes / 60\n",
    "    print(hours)\n",
    "\n",
    "convert_minutes_to_hours(200)\n",
    "#This will convert 200 minutes to hours by diving by 60"
   ]
  },
  {
   "cell_type": "markdown",
   "id": "1bf16e4f-fe1f-407e-8f29-70b36c06da2c",
   "metadata": {},
   "source": [
    "## Author\n",
    "Jianfang Liang"
   ]
  },
  {
   "cell_type": "code",
   "execution_count": null,
   "id": "cf4b1324-eae3-4eed-b295-74c8f0134257",
   "metadata": {},
   "outputs": [],
   "source": []
  }
 ],
 "metadata": {
  "kernelspec": {
   "display_name": "Python 3 (ipykernel)",
   "language": "python",
   "name": "python3"
  },
  "language_info": {
   "codemirror_mode": {
    "name": "ipython",
    "version": 3
   },
   "file_extension": ".py",
   "mimetype": "text/x-python",
   "name": "python",
   "nbconvert_exporter": "python",
   "pygments_lexer": "ipython3",
   "version": "3.12.4"
  }
 },
 "nbformat": 4,
 "nbformat_minor": 5
}
